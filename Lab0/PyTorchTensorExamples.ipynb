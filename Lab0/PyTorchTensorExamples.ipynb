{
 "cells": [
  {
   "cell_type": "code",
   "execution_count": 1,
   "metadata": {
    "collapsed": true,
    "pycharm": {
     "is_executing": false
    }
   },
   "outputs": [],
   "source": [
    "import torch\n",
    "\n",
    "\n"
   ]
  },
  {
   "cell_type": "code",
   "execution_count": 2,
   "metadata": {
    "pycharm": {
     "is_executing": false,
     "name": "#%%\n"
    }
   },
   "outputs": [
    {
     "name": "stdout",
     "output_type": "stream",
     "text": [
      "tensor([[1.3452e-43, 0.0000e+00, 6.7262e-44]])\n",
      "tensor([[1, 2, 3],\n",
      "        [4, 5, 6]], dtype=torch.int32)\n",
      "tensor([[1., 2., 3.],\n",
      "        [4., 5., 6.]])\n"
     ]
    }
   ],
   "source": [
    "# create an empty floating point tensor\n",
    "x = torch.empty(1, 3)\n",
    "print(x)\n",
    "\n",
    "# Creation of default floating point tensor (float32) filled with ones\n",
    "y = torch.ones(2,5)\n",
    "\n",
    "# Creation of Integer tensor from existing data; Bad way\n",
    "zbad = torch.IntTensor([[1, 2,3], [4,5,6]])\n",
    "print(zbad)\n",
    "\n",
    "z = torch.tensor([[1,2,3], [4,5,6]], dtype=torch.float)\n",
    "print(z)"
   ]
  },
  {
   "cell_type": "code",
   "execution_count": 9,
   "metadata": {
    "pycharm": {
     "is_executing": false,
     "name": "#%%\n"
    }
   },
   "outputs": [
    {
     "name": "stdout",
     "output_type": "stream",
     "text": [
      "torch.Size([1, 3])\n",
      "torch.Size([1, 3])\n",
      "torch.FloatTensor\n",
      "cpu\n"
     ]
    }
   ],
   "source": [
    "# Inspecting a Tensor\n",
    "\n",
    "print(x.size())\n",
    "print(x.shape) #usually used in preference to size()\n",
    "\n",
    "print(z.type()) # the underlying class; this will be dependent on the backing device (so there are different FloatTensor implementations for different devices)\n",
    "print(z.device) # the actual backing device (which isn't just cpu/gpu, but could tell you which gpu...)"
   ]
  },
  {
   "cell_type": "code",
   "execution_count": 10,
   "metadata": {
    "pycharm": {
     "is_executing": false,
     "name": "#%%\n"
    }
   },
   "outputs": [
    {
     "name": "stdout",
     "output_type": "stream",
     "text": [
      "tensor([[ 0.0000e+00,  4.5689e-41, -2.1736e-21]])\n",
      "tensor([[ 0.0000e+00,  0.0000e+00, -2.1736e-21]])\n",
      "tensor([[1.1250, 1.1250, 1.1250]])\n"
     ]
    }
   ],
   "source": [
    "# Setting values\n",
    "\n",
    "x[0,0] = 0\n",
    "print(x)\n",
    "\n",
    "x[0,1:2] = 0 # same as numpy\n",
    "print(x)\n",
    "\n",
    "\n",
    "x.fill_(1.125)\n",
    "print(x)\n",
    "\n",
    "\n"
   ]
  },
  {
   "cell_type": "code",
   "execution_count": 11,
   "metadata": {
    "pycharm": {
     "is_executing": false,
     "name": "#%%\n"
    }
   },
   "outputs": [
    {
     "name": "stdout",
     "output_type": "stream",
     "text": [
      "tensor(1.1250)\n",
      "tensor(0.)\n"
     ]
    }
   ],
   "source": [
    "# 1st order statistics\n",
    "\n",
    "print(x.mean())\n",
    "print(x.std())"
   ]
  },
  {
   "cell_type": "code",
   "execution_count": 13,
   "metadata": {
    "pycharm": {
     "is_executing": false,
     "name": "#%%\n"
    }
   },
   "outputs": [
    {
     "name": "stdout",
     "output_type": "stream",
     "text": [
      "torch.Size([])\n"
     ]
    },
    {
     "data": {
      "text/plain": [
       "3.375"
      ]
     },
     "execution_count": 13,
     "metadata": {},
     "output_type": "execute_result"
    }
   ],
   "source": [
    "print(x.sum().shape)\n",
    "x.sum()\n",
    "x.sum().item()"
   ]
  },
  {
   "cell_type": "code",
   "execution_count": 15,
   "metadata": {
    "pycharm": {
     "is_executing": false,
     "name": "#%%\n"
    }
   },
   "outputs": [
    {
     "name": "stdout",
     "output_type": "stream",
     "text": [
      "[[1. 2. 3.]\n",
      " [4. 5. 6.]]\n",
      "1.0\n"
     ]
    }
   ],
   "source": [
    "z.numpy()\n",
    "print(z.cpu().numpy())\n",
    "print(z[0,0].item())"
   ]
  },
  {
   "cell_type": "code",
   "execution_count": 16,
   "metadata": {
    "pycharm": {
     "is_executing": false,
     "name": "#%%\n"
    }
   },
   "outputs": [
    {
     "name": "stdout",
     "output_type": "stream",
     "text": [
      "tensor([21., 41., 61.])\n",
      "tensor([-1., -1., -1.])\n",
      "tensor([110., 420., 930.])\n",
      "tensor([0.9091, 0.9524, 0.9677])\n",
      "tensor([100., 400., 900.])\n",
      "tensor([-0.5440,  0.9129, -0.9880])\n",
      "tensor([ True, False, False])\n",
      "tensor([ True,  True, False])\n",
      "tensor([ True, False, False])\n"
     ]
    }
   ],
   "source": [
    "# Element-wise operations\n",
    "\n",
    "x = torch.tensor([10., 20., 30.])\n",
    "y = torch.tensor([11., 21., 31.])\n",
    "\n",
    "print(x + y)\n",
    "print(x - y)\n",
    "print(x * y)\n",
    "print( x / y)\n",
    "print(x**2)\n",
    "print(torch.sin(x))\n",
    "print(x==10)\n",
    "print(x <= 20)\n",
    "print((x <=20) & (x==10))\n"
   ]
  },
  {
   "cell_type": "code",
   "execution_count": 17,
   "metadata": {
    "pycharm": {
     "is_executing": false,
     "name": "#%%\n"
    }
   },
   "outputs": [
    {
     "name": "stdout",
     "output_type": "stream",
     "text": [
      "Error: Dimension out of range (expected to be in range of [-1, 0], but got 1)\n",
      "tensor([30., 40., 30.])\n",
      "tensor([30., 40., 30.])\n"
     ]
    }
   ],
   "source": [
    "# Matrix multiplication\n",
    "\n",
    "x = torch.tensor([ 10., 20., 30.]) # 1d tensor\n",
    "m = torch.tensor([[ 0., 0., 1. ],[ 0., 2., 0. ],[ 3., 0., 0. ]]) #m is a 2d tensor\n",
    "\n",
    "try:\n",
    "    print(torch.mm(m,x))\n",
    "except Exception as e: # torch.mm does not support broadcasting\n",
    "    print(\"Error: \" + str(e))\n",
    "print(torch.matmul(m,x)) # matmul matrix multiplication with broadcasting\n",
    "print(m @ x) # shorthand for matmul\n"
   ]
  },
  {
   "cell_type": "code",
   "execution_count": 18,
   "metadata": {
    "pycharm": {
     "is_executing": false,
     "name": "#%%\n"
    }
   },
   "outputs": [
    {
     "name": "stdout",
     "output_type": "stream",
     "text": [
      "torch.Size([3])\n",
      "torch.Size([3, 1])\n",
      "torch.Size([1, 3])\n",
      "tensor([[30.],\n",
      "        [40.],\n",
      "        [30.]])\n"
     ]
    }
   ],
   "source": [
    "# Unsqueezing tensors- unsqueezing adds another dimension: \n",
    "\n",
    "x = torch.tensor([10., 20., 30.])\n",
    "print(x.shape)\n",
    "x.unsqueeze_(-1) # in-place unsqueeze, adding the new dimension in the last position (so we create a _column_ vector)\n",
    "print(x.shape)\n",
    "print(x.t().shape)\n",
    "print(torch.mm(m,x))"
   ]
  },
  {
   "cell_type": "code",
   "execution_count": 20,
   "metadata": {
    "pycharm": {
     "is_executing": false,
     "name": "#%%\n"
    }
   },
   "outputs": [
    {
     "name": "stdout",
     "output_type": "stream",
     "text": [
      "tensor([10., 20., 30.])\n"
     ]
    }
   ],
   "source": [
    "# Reshape tensors\n",
    "\n",
    "x2 = x.reshape(3) # reshape back to 1d 3 element array\n",
    "print(x2)"
   ]
  },
  {
   "cell_type": "code",
   "execution_count": null,
   "metadata": {
    "pycharm": {
     "name": "#%%\n"
    }
   },
   "outputs": [],
   "source": [
    "\n"
   ]
  }
 ],
 "metadata": {
  "kernelspec": {
   "display_name": "Python 3",
   "language": "python",
   "name": "python3"
  },
  "language_info": {
   "codemirror_mode": {
    "name": "ipython",
    "version": 3
   },
   "file_extension": ".py",
   "mimetype": "text/x-python",
   "name": "python",
   "nbconvert_exporter": "python",
   "pygments_lexer": "ipython3",
   "version": "3.7.6"
  },
  "pycharm": {
   "stem_cell": {
    "cell_type": "raw",
    "metadata": {
     "collapsed": false
    },
    "source": []
   }
  }
 },
 "nbformat": 4,
 "nbformat_minor": 1
}
