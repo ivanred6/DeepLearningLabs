{
 "cells": [
  {
   "cell_type": "markdown",
   "metadata": {
    "colab_type": "text",
    "deletable": false,
    "editable": false,
    "id": "NYJWmpEfR9lJ",
    "nbgrader": {
     "cell_type": "markdown",
     "checksum": "65581aa445e47361f83d64ec69310261",
     "grade": false,
     "grade_id": "cell-92665c32235efd5a",
     "locked": true,
     "schema_version": 3,
     "solution": false,
     "task": false
    }
   },
   "source": [
    "# Linear Support Vector Machine (SVM)\n",
    "\n",
    "We've now seen how to optimise analytic functions using PyTorch's optimisers, and in the previous labs and exercises we played with training simple machine learning models with hand-coded gradient descent. Let's put everything together and implement a Soft-Margin Linear Support Vector Machine, which we'll train on some artifically generated data using a range of optimisers."
   ]
  },
  {
   "cell_type": "code",
   "execution_count": 1,
   "metadata": {
    "deletable": false,
    "editable": false,
    "nbgrader": {
     "cell_type": "code",
     "checksum": "ba82988994ec42e9cc63d42b118605ce",
     "grade": false,
     "grade_id": "cell-51814571a361e8a4",
     "locked": true,
     "schema_version": 3,
     "solution": false,
     "task": false
    },
    "pycharm": {
     "is_executing": false
    }
   },
   "outputs": [
    {
     "name": "stderr",
     "output_type": "stream",
     "text": [
      "Bad val 'GTKAgg' on line #32\n",
      "\t\"backend      : GTKAgg\n",
      "\"\n",
      "\tin file \"/home/alex/.local/lib/python3.7/site-packages/matplotlib/mpl-data/matplotlibrc\"\n",
      "\tKey backend: Unrecognized backend string 'gtkagg': valid strings are ['GTK3Agg', 'GTK3Cairo', 'MacOSX', 'nbAgg', 'Qt4Agg', 'Qt4Cairo', 'Qt5Agg', 'Qt5Cairo', 'TkAgg', 'TkCairo', 'WebAgg', 'WX', 'WXAgg', 'WXCairo', 'agg', 'cairo', 'pdf', 'pgf', 'ps', 'svg', 'template']\n"
     ]
    }
   ],
   "source": [
    "# We're going to use a library called celluloid to make animations that work on colab\n",
    "try: \n",
    "    from celluloid import Camera\n",
    "except:\n",
    "    pass\n",
    "\n",
    "from IPython.display import HTML\n",
    "import torch\n",
    "import torch.optim as optim"
   ]
  },
  {
   "cell_type": "markdown",
   "metadata": {
    "colab_type": "text",
    "deletable": false,
    "editable": false,
    "id": "a31Upx80S0Wf",
    "nbgrader": {
     "cell_type": "markdown",
     "checksum": "ef09680740eca5e908063bd1cbc2f8b5",
     "grade": false,
     "grade_id": "cell-ad34b4924532e881",
     "locked": true,
     "schema_version": 3,
     "solution": false,
     "task": false
    }
   },
   "source": [
    "## SVM Recap\n",
    "\n",
    "Recall that an SVM tries to find the maximum margin hyperplane which separates the data classes. For a soft margin SVM\n",
    "where $\\textbf{x}$ is our data, we minimize:\n",
    "\n",
    "\\begin{equation}\n",
    "\\left[\\frac 1 n \\sum_{i=1}^n \\max\\left(0, 1 - y_i(\\textbf{w}\\cdot \\textbf{x}_i - b)\\right) \\right] + \\lambda\\lVert \\textbf{w} \\rVert^2\n",
    "\\end{equation}\n",
    "\n",
    "We can formulate this as an optimization over our weights $\\textbf{w}$ and bias $b$, where we minimize the\n",
    "hinge loss subject to a level 2 weight decay term. The hinge loss for some model outputs\n",
    "$z = \\textbf{w}\\textbf{x} + b$ with targets $y$ is given by:\n",
    "\n",
    "\\begin{equation}\n",
    "\\ell(y,z) = \\max\\left(0, 1 - yz \\right)\n",
    "\\end{equation}\n",
    "\n",
    "First, complete the following function to implement the hinge loss for batches of predictions `y_pred` and targets `y_true`. You should return the mean of the hinge loss across the batch. Note that this is a binary problem with labels are chosen to be $\\{-1,1\\}$."
   ]
  },
  {
   "cell_type": "code",
   "execution_count": 2,
   "metadata": {
    "colab": {},
    "colab_type": "code",
    "deletable": false,
    "id": "a-0v2QecS6YP",
    "nbgrader": {
     "cell_type": "code",
     "checksum": "4a913c1bb199d596ad24ad4408c9eeb0",
     "grade": false,
     "grade_id": "cell-420f491f3b45382b",
     "locked": false,
     "schema_version": 3,
     "solution": true,
     "task": false
    },
    "pycharm": {
     "is_executing": false
    }
   },
   "outputs": [],
   "source": [
    "def hinge_loss(y_pred, y_true):\n",
    "    # YOUR CODE HERE\n",
    "    loss_list = [1-y*z for y,z in zip(y_pred, y_true)]\n",
    "    loss = max([loss_list.append(0)])\n",
    "    return loss"
   ]
  },
  {
   "cell_type": "markdown",
   "metadata": {
    "deletable": false,
    "editable": false,
    "nbgrader": {
     "cell_type": "markdown",
     "checksum": "75107b63da640aa87fdbbd284dacb5e2",
     "grade": false,
     "grade_id": "cell-5057286d33fba508",
     "locked": true,
     "schema_version": 3,
     "solution": false,
     "task": false
    }
   },
   "source": [
    "## Defining the SVM\n",
    "\n",
    "Defining the SVM is pretty simple - it's just a basic linear classifier like a Perceptron; what distinguishes it is the loss.  We'll wrap it up in a function:"
   ]
  },
  {
   "cell_type": "code",
   "execution_count": 3,
   "metadata": {
    "colab": {},
    "colab_type": "code",
    "deletable": false,
    "editable": false,
    "id": "27hRy0i8Sze4",
    "nbgrader": {
     "cell_type": "code",
     "checksum": "8fecc13d5366fa71717a03cf02f1c883",
     "grade": false,
     "grade_id": "cell-41c9a1a8a2140213",
     "locked": true,
     "schema_version": 3,
     "solution": false,
     "task": false
    },
    "pycharm": {
     "is_executing": false
    }
   },
   "outputs": [],
   "source": [
    "def svm(x, w, b):\n",
    "    h = (w*x).sum(1) + b\n",
    "    return h"
   ]
  },
  {
   "cell_type": "markdown",
   "metadata": {
    "colab_type": "text",
    "deletable": false,
    "editable": false,
    "id": "diJonMlwS7z4",
    "nbgrader": {
     "cell_type": "markdown",
     "checksum": "8477a6a51fa5c79348734e5f43c648f1",
     "grade": false,
     "grade_id": "cell-92a878d686b53c98",
     "locked": true,
     "schema_version": 3,
     "solution": false,
     "task": false
    }
   },
   "source": [
    "Creating Synthetic Data\n",
    "-----------------------------------------------\n",
    "\n",
    "Now for some data, 1024 samples should do the trick. We normalise here so that our random init is in the same space as\n",
    "the data:"
   ]
  },
  {
   "cell_type": "code",
   "execution_count": 4,
   "metadata": {
    "colab": {},
    "colab_type": "code",
    "deletable": false,
    "editable": false,
    "id": "U4U7FpoiS946",
    "nbgrader": {
     "cell_type": "code",
     "checksum": "d2e3a87b86eb49d5a5420123397df03d",
     "grade": false,
     "grade_id": "cell-210ee9436a431b1d",
     "locked": true,
     "schema_version": 3,
     "solution": false,
     "task": false
    },
    "pycharm": {
     "is_executing": false
    }
   },
   "outputs": [
    {
     "name": "stderr",
     "output_type": "stream",
     "text": [
      "/home/alex/anaconda3/envs/deepLearning/lib/python3.7/site-packages/sklearn/utils/deprecation.py:144: FutureWarning: The sklearn.datasets.samples_generator module is  deprecated in version 0.22 and will be removed in version 0.24. The corresponding classes / functions should instead be imported from sklearn.datasets. Anything that cannot be imported from sklearn.datasets is now part of the private API.\n",
      "  warnings.warn(message, FutureWarning)\n"
     ]
    }
   ],
   "source": [
    "import numpy as np\n",
    "from sklearn.datasets.samples_generator import make_blobs\n",
    "\n",
    "X, Y = make_blobs(n_samples=1024, centers=2, cluster_std=1.2, random_state=1)\n",
    "X = (X - X.mean()) / X.std()\n",
    "Y[np.where(Y == 0)] = -1\n",
    "X, Y = torch.FloatTensor(X), torch.FloatTensor(Y)"
   ]
  },
  {
   "cell_type": "markdown",
   "metadata": {
    "deletable": false,
    "editable": false,
    "nbgrader": {
     "cell_type": "markdown",
     "checksum": "bb5c51de1529fce62d95430e304b787f",
     "grade": false,
     "grade_id": "cell-a5d0c7fc6368409c",
     "locked": true,
     "schema_version": 3,
     "solution": false,
     "task": false
    }
   },
   "source": [
    "For the first time, we're going to do proper mini-batch gradient descent. As such, we actually need to be able to produce batches of data. PyTorch has the concept of datasets (which represent entire collections of data) and data loaders (which allow us to iterate batches of data from a dataset). This allows the framework to do all the hard work for us:"
   ]
  },
  {
   "cell_type": "code",
   "execution_count": 5,
   "metadata": {
    "deletable": false,
    "editable": false,
    "nbgrader": {
     "cell_type": "code",
     "checksum": "3a3dc4137d085f28bb284143c91736f8",
     "grade": false,
     "grade_id": "cell-e65bbcc750fada1a",
     "locked": true,
     "schema_version": 3,
     "solution": false,
     "task": false
    },
    "pycharm": {
     "is_executing": false
    }
   },
   "outputs": [],
   "source": [
    "from torch.utils import data\n",
    "\n",
    "dataset = data.TensorDataset(X,Y) # create your datset\n",
    "dataloader = data.DataLoader(dataset, batch_size=32, shuffle=True) # create your dataloader"
   ]
  },
  {
   "cell_type": "markdown",
   "metadata": {
    "colab_type": "text",
    "deletable": false,
    "editable": false,
    "id": "OR_iJX_6TJRF",
    "nbgrader": {
     "cell_type": "markdown",
     "checksum": "2653001f82321a71bde17f19a62975c6",
     "grade": false,
     "grade_id": "cell-ba76c22eaa870aa9",
     "locked": true,
     "schema_version": 3,
     "solution": false,
     "task": false
    }
   },
   "source": [
    "Visualizing the Training\n",
    "----------------------------------------\n",
    "\n",
    "We now aim to create a nice visualisation, such as the one below, that shows what happens as our SVM learns.\n",
    "\n",
    "![svmgif](https://raw.githubusercontent.com/ecs-vlc/torchbearer/master/docs/_static/img/svm_fit.gif)\n",
    "\n",
    "The code for the visualisation (using [pyplot](https://matplotlib.org/api/pyplot_api.html)) is a bit ugly but we'll\n",
    "try to explain it to some degree. First, we need a mesh grid `xy` over the range of our data:"
   ]
  },
  {
   "cell_type": "code",
   "execution_count": 6,
   "metadata": {
    "colab": {},
    "colab_type": "code",
    "deletable": false,
    "editable": false,
    "id": "9WWuOIt5TeAA",
    "nbgrader": {
     "cell_type": "code",
     "checksum": "2b0a1274964e386c9899b503c6db3e88",
     "grade": false,
     "grade_id": "cell-527fa37ff55bde6c",
     "locked": true,
     "schema_version": 3,
     "solution": false,
     "task": false
    },
    "pycharm": {
     "is_executing": false
    }
   },
   "outputs": [],
   "source": [
    "delta = 0.01\n",
    "x = np.arange(X[:, 0].min(), X[:, 0].max(), delta)\n",
    "y = np.arange(X[:, 1].min(), X[:, 1].max(), delta)\n",
    "x, y = np.meshgrid(x, y)\n",
    "xy = list(map(np.ravel, [x, y]))"
   ]
  },
  {
   "cell_type": "markdown",
   "metadata": {
    "colab_type": "text",
    "deletable": false,
    "editable": false,
    "id": "Wm9gBsuzTy7t",
    "nbgrader": {
     "cell_type": "markdown",
     "checksum": "fde84120db02f77f649b1ac393a38591",
     "grade": false,
     "grade_id": "cell-8e0141bbdb2b155e",
     "locked": true,
     "schema_version": 3,
     "solution": false,
     "task": false
    }
   },
   "source": [
    "Now things get a little strange. We start by evaluating our model over the mesh grid from earlier.\n",
    "\n",
    "For our outputs $z \\in \\textbf{Z}$, we can make some observations about the decision boundary. First, that we are\n",
    "outside the margin if $z \\lt -1$ or $z \\gt 1$. Conversely, we are inside the margine where $z \\gt -1$\n",
    "or $z \\lt 1$. \n",
    "\n",
    "This whole process is shown in the function below, which we can call at the end of every epoch. The `camera` takes snapshots of the current plot and is used later to render a video."
   ]
  },
  {
   "cell_type": "code",
   "execution_count": 7,
   "metadata": {
    "colab": {},
    "colab_type": "code",
    "deletable": false,
    "editable": false,
    "id": "QEcC8BsoTzQ9",
    "nbgrader": {
     "cell_type": "code",
     "checksum": "785e22b2bb4b7f867908edc9792e8536",
     "grade": false,
     "grade_id": "cell-6efabcf77a2e0515",
     "locked": true,
     "schema_version": 3,
     "solution": false,
     "task": false
    },
    "pycharm": {
     "is_executing": false
    }
   },
   "outputs": [],
   "source": [
    "import matplotlib\n",
    "import matplotlib.pyplot as plt\n",
    "\n",
    "def draw_margin(w, b, camera):\n",
    "    w = w.data.numpy()\n",
    "    b = b.data.numpy()\n",
    "\n",
    "    z = (w.dot(xy) + b).reshape(x.shape)\n",
    "    z[np.where(z > 1.)] = 4\n",
    "    z[np.where((z > 0.) & (z <= 1.))] = 3\n",
    "    z[np.where((z > -1.) & (z <= 0.))] = 2\n",
    "    z[np.where(z <= -1.)] = 1\n",
    "\n",
    "    plt.scatter(x=X[:, 0], y=X[:, 1], c=\"black\", s=10)\n",
    "    plt.contourf(x, y, z, cmap=plt.cm.jet, alpha=0.5)\n",
    "    camera.snap()"
   ]
  },
  {
   "cell_type": "markdown",
   "metadata": {
    "colab_type": "text",
    "deletable": false,
    "editable": false,
    "id": "GAdaOug0S_Nf",
    "nbgrader": {
     "cell_type": "markdown",
     "checksum": "3a0668d3f64bd7f21a64312127013411",
     "grade": false,
     "grade_id": "cell-f15891d25a807ea4",
     "locked": true,
     "schema_version": 3,
     "solution": false,
     "task": false
    }
   },
   "source": [
    "Since we don't know that our data is linearly separable, we would like to use a soft-margin SVM. That is, an SVM for\n",
    "which the data does not all have to be outside of the margin. This takes the form of a weight decay term,\n",
    "$\\lambda\\lVert \\textbf{w} \\rVert^2$ in the above equation. This term is called weight decay because the gradient\n",
    "corresponds to subtracting some amount ($2\\lambda\\textbf{w}$) from our weights at each step. \n",
    "\n",
    "Most PyTorch optimisers actually have weight decay built in to them as an option (`weight_decay=...`), so its trivial to incorporate this. \n",
    "\n",
    "At this point we are ready to create and train our model. We've written most of the code, but you'll need to implement the forward and backward pass:"
   ]
  },
  {
   "cell_type": "code",
   "execution_count": 15,
   "metadata": {
    "colab": {},
    "colab_type": "code",
    "deletable": false,
    "id": "gpKBohTtTHdr",
    "nbgrader": {
     "cell_type": "code",
     "checksum": "531b2437be629976814f210aeaf54246",
     "grade": false,
     "grade_id": "cell-1631d2d34dd5f1d3",
     "locked": false,
     "schema_version": 3,
     "solution": true,
     "task": false
    },
    "pycharm": {
     "is_executing": false
    }
   },
   "outputs": [
    {
     "name": "stdout",
     "text": [
      "weights are w:tensor([[-1.0623, -1.1017]], requires_grad=True) btensor([0.0150], requires_grad=True)\n"
     ],
     "output_type": "stream"
    },
    {
     "data": {
      "text/plain": "<IPython.core.display.HTML object>",
      "text/html": "<video width=\"360\" height=\"360\" controls autoplay loop>\n  <source type=\"video/mp4\" src=\"data:video/mp4;base64,AAAAHGZ0eXBNNFYgAAACAGlzb21pc28yYXZjMQAAAAhmcmVlAADVOW1kYXQAAAKuBgX//6rcRem9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\nMjkuMTAw\n\">\n  Your browser does not support the video tag.\n</video>"
     },
     "metadata": {},
     "output_type": "execute_result",
     "execution_count": 15
    }
   ],
   "source": [
    "# Set up drawing\n",
    "fig = plt.figure(figsize=(5, 5))\n",
    "camera = Camera(fig)\n",
    "\n",
    "w = torch.randn(1, 2, requires_grad=True)\n",
    "b = torch.randn(1, requires_grad=True)\n",
    "\n",
    "opt = optim.SGD([w,b], lr=0.1, weight_decay=0.01)\n",
    "\n",
    "for epoch in range(50):\n",
    "    for batch in dataloader:\n",
    "        opt.zero_grad()\n",
    "        # YOUR CODE HERE\n",
    "        output = svm(batch[0], w, b)\n",
    "        loss = torch.mean(torch.clamp(1 - batch[1] * output, min=0))\n",
    "        loss.backward()\n",
    "        opt.step()\n",
    "    draw_margin(w, b, camera)\n",
    "\n",
    "print(f'weights are w:{w} b{b}')\n",
    "# create the animation and display it\n",
    "anim = camera.animate()\n",
    "plt.close()\n",
    "HTML(anim.to_html5_video())"
   ]
  },
  {
   "cell_type": "markdown",
   "metadata": {
    "colab_type": "text",
    "deletable": false,
    "editable": false,
    "id": "tZwqaO7pT0le",
    "nbgrader": {
     "cell_type": "markdown",
     "checksum": "f8be0f68a23e13fddd5f2ca815055f66",
     "grade": false,
     "grade_id": "cell-5b71776c13df59d7",
     "locked": true,
     "schema_version": 3,
     "solution": false,
     "task": false
    }
   },
   "source": [
    "Now do some further experiments. What optimiser and parameters gets you to a good solution the quickest? Do you notice that when the model is near a solution it jitters around upon each step? Can you add some kind of learning rate decay or schedule from the `torch.optim.lr_scheduler` package to reduce the learning rate over time?"
   ]
  },
  {
   "cell_type": "code",
   "execution_count": 9,
   "metadata": {
    "deletable": false,
    "nbgrader": {
     "cell_type": "code",
     "checksum": "9078d7fbc64e6cd09b31c42ce52e25b8",
     "grade": false,
     "grade_id": "cell-e3497d120884f361",
     "locked": false,
     "schema_version": 3,
     "solution": true,
     "task": false
    },
    "pycharm": {
     "is_executing": false
    }
   },
   "outputs": [
    {
     "ename": "NotImplementedError",
     "evalue": "",
     "output_type": "error",
     "traceback": [
      "\u001b[0;31m---------------------------------------------------------------------------\u001b[0m",
      "\u001b[0;31mNotImplementedError\u001b[0m                       Traceback (most recent call last)",
      "\u001b[0;32m<ipython-input-9-15b94d1fa268>\u001b[0m in \u001b[0;36m<module>\u001b[0;34m\u001b[0m\n\u001b[1;32m      1\u001b[0m \u001b[0;31m# YOUR CODE HERE\u001b[0m\u001b[0;34m\u001b[0m\u001b[0;34m\u001b[0m\u001b[0;34m\u001b[0m\u001b[0m\n\u001b[0;32m----> 2\u001b[0;31m \u001b[0;32mraise\u001b[0m \u001b[0mNotImplementedError\u001b[0m\u001b[0;34m(\u001b[0m\u001b[0;34m)\u001b[0m\u001b[0;34m\u001b[0m\u001b[0;34m\u001b[0m\u001b[0m\n\u001b[0m",
      "\u001b[0;31mNotImplementedError\u001b[0m: "
     ]
    }
   ],
   "source": [
    "# YOUR CODE HERE\n",
    "raise NotImplementedError()"
   ]
  }
 ],
 "metadata": {
  "colab": {
   "name": "3_2_SVM.ipynb",
   "provenance": [],
   "version": "0.3.2"
  },
  "kernelspec": {
   "display_name": "Python 3",
   "language": "python",
   "name": "python3"
  },
  "language_info": {
   "codemirror_mode": {
    "name": "ipython",
    "version": 3
   },
   "file_extension": ".py",
   "mimetype": "text/x-python",
   "name": "python",
   "nbconvert_exporter": "python",
   "pygments_lexer": "ipython3",
   "version": "3.7.6"
  },
  "latex_envs": {
   "LaTeX_envs_menu_present": true,
   "autoclose": false,
   "autocomplete": true,
   "bibliofile": "biblio.bib",
   "cite_by": "apalike",
   "current_citInitial": 1,
   "eqLabelWithNumbers": true,
   "eqNumInitial": 1,
   "hotkeys": {
    "equation": "Ctrl-E",
    "itemize": "Ctrl-I"
   },
   "labels_anchors": false,
   "latex_user_defs": false,
   "report_style_numbering": false,
   "user_envs_cfg": false
  },
  "pycharm": {
   "stem_cell": {
    "cell_type": "raw",
    "source": [],
    "metadata": {
     "collapsed": false
    }
   }
  },
  "varInspector": {
   "cols": {
    "lenName": 16,
    "lenType": 16,
    "lenVar": 40
   },
   "kernels_config": {
    "python": {
     "delete_cmd_postfix": "",
     "delete_cmd_prefix": "del ",
     "library": "var_list.py",
     "varRefreshCmd": "print(var_dic_list())"
    },
    "r": {
     "delete_cmd_postfix": ") ",
     "delete_cmd_prefix": "rm(",
     "library": "var_list.r",
     "varRefreshCmd": "cat(var_dic_list()) "
    }
   },
   "types_to_exclude": [
    "module",
    "function",
    "builtin_function_or_method",
    "instance",
    "_Feature"
   ],
   "window_display": false
  }
 },
 "nbformat": 4,
 "nbformat_minor": 1
}