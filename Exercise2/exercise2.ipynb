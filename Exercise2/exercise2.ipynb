{
 "cells": [
  {
   "cell_type": "code",
   "execution_count": 3,
   "outputs": [],
   "source": [
    "import torch\n",
    "from typing import Tuple\n",
    "import pandas as pd\n",
    "import matplotlib.pyplot as plt\n"
   ],
   "metadata": {
    "collapsed": false,
    "pycharm": {
     "name": "#%%\n",
     "is_executing": false
    }
   }
  },
  {
   "cell_type": "code",
   "execution_count": 4,
   "metadata": {
    "collapsed": true,
    "pycharm": {
     "is_executing": false
    }
   },
   "outputs": [],
   "source": [
    "def sgd_factorise_ad(A: torch.Tensor, rank: int, num_epochs=1000, lr=0.01) \\\n",
    "    -> Tuple[torch.Tensor, torch.Tensor]:\n",
    "    \n",
    "    m, n = A.shape\n",
    "    U = torch.rand(m, rank, requires_grad=True)\n",
    "    V = torch.rand(n, rank, requires_grad=True)\n",
    "    for epoch in range(0, num_epochs):\n",
    "        \n",
    "        U.grad = None\n",
    "        V.grad = None\n",
    "        \n",
    "        error  = torch.nn.functional.mse_loss(A, U@V.t(), reduction='sum')\n",
    "        error.backward()\n",
    "        \n",
    "        u = U.data - U.grad*lr\n",
    "        U.data = u\n",
    "        \n",
    "        v = V.data - V.grad*lr\n",
    "        V.data = v\n",
    "        \n",
    "    return U, V"
   ]
  },
  {
   "cell_type": "code",
   "execution_count": 5,
   "outputs": [],
   "source": [
    "def truncatedSVD(A: torch.Tensor):\n",
    "\n",
    "    U, S, V = torch.svd(A)\n",
    "    m = S.shape[0] -1\n",
    "    S[m] = 0\n",
    "    return  U, S, V"
   ],
   "metadata": {
    "collapsed": false,
    "pycharm": {
     "name": "#%%\n",
     "is_executing": false
    }
   }
  },
  {
   "cell_type": "code",
   "execution_count": 6,
   "outputs": [
    {
     "name": "stdout",
     "text": [
      "Approximation tensor([[ 0.2235,  0.5136,  0.3621],\n",
      "        [ 3.2560, -0.0118,  1.9696],\n",
      "        [ 3.0348,  0.6019,  2.1062]], grad_fn=<MmBackward>)\n",
      "Loss  is 0.12198008596897125\n"
     ],
     "output_type": "stream"
    }
   ],
   "source": [
    "original = torch.tensor([[0.3374, 0.6005, 0.1735],\n",
    "                         [3.3359, 0.0492, 1.8374],\n",
    "                         [2.9407, 0.5301, 2.2620]])\n",
    "\n",
    "U, V = sgd_factorise_ad(original, 2)\n",
    "loss = torch.nn.functional.mse_loss(U@V.t(), original, reduction='sum')\n",
    "print(f\"Approximation {U@V.t()}\")\n",
    "print(f'Loss  is {loss}')\\"
   ],
   "metadata": {
    "collapsed": false,
    "pycharm": {
     "name": "#%%\n",
     "is_executing": false
    }
   }
  },
  {
   "cell_type": "code",
   "execution_count": 7,
   "outputs": [
    {
     "name": "stdout",
     "text": [
      "Loss  is 15.228898152078163\n"
     ],
     "output_type": "stream"
    }
   ],
   "source": [
    "df = pd.read_csv('http://archive.ics.uci.edu/ml/machine-learning-databases'\n",
    "                 + '/iris/iris.data', header=None)\n",
    "data = torch.tensor(df.iloc[:, [0,1,2,3]].values)\n",
    "data = data - data.mean(dim=0) # centre the data \n",
    "\n",
    "U, V = sgd_factorise_ad(data, 2)\n",
    "loss = torch.nn.functional.mse_loss(U@V.t(), data, reduction='sum')\n",
    "#print(f\"Approximation {U@V.t()}\")\n",
    "print(f'Loss  is {loss}')\\\n"
   ],
   "metadata": {
    "collapsed": false,
    "pycharm": {
     "name": "#%%\n",
     "is_executing": false
    }
   }
  },
  {
   "cell_type": "code",
   "execution_count": 8,
   "outputs": [
    {
     "name": "stdout",
     "text": [
      "Loss  is 3.52877104177429\n"
     ],
     "output_type": "stream"
    }
   ],
   "source": [
    "U, S , V = truncatedSVD(data)\n",
    "reconstruction = U @ torch.diag(S) @ V.t()\n",
    "loss = torch.nn.functional.mse_loss(reconstruction, data, reduction='sum')\n",
    "#print(f\"Approximation \\n {reconstruction}\")\n",
    "print(f'Loss  is {loss}')"
   ],
   "metadata": {
    "collapsed": false,
    "pycharm": {
     "name": "#%%\n",
     "is_executing": false
    }
   }
  },
  {
   "cell_type": "code",
   "execution_count": 15,
   "outputs": [
    {
     "data": {
      "text/plain": "<Figure size 432x288 with 1 Axes>",
      "image/png": "[encoded data removed]"
     },
     "metadata": {
      "needs_background": "light"
     },
     "output_type": "display_data"
    }
   ],
   "source": [
    "U, S, V = torch.svd(data)\n",
    "fig = plt.figure()\n",
    "ax = fig.add_subplot(1,1,1)\n",
    "colors = ['blue','red','black']\n",
    "#plt.scatter(U[:,0], U[:,1])\n",
    "colour_dict = {'Iris-setosa':0, 'Iris-versicolor':1, 'Iris-virginica':2}\n",
    "for i in range(data.shape[0]):\n",
    "    ax.scatter(U[i,0], U[i,1], color= colors[colour_dict[df.iloc[i,-1]]])\n",
    "plt.xlabel(\"Principle Component 1\")\n",
    "plt.ylabel(\"Principle Component 2\")\n",
    "plt.title(\"Projection onto $U$\")\n",
    "plt.savefig(\"PCA_U\")"
   ],
   "metadata": {
    "collapsed": false,
    "pycharm": {
     "name": "#%%\n",
     "is_executing": false
    }
   }
  },
  {
   "cell_type": "code",
   "execution_count": 21,
   "outputs": [
    {
     "data": {
      "text/plain": "<Figure size 432x288 with 1 Axes>",
      "image/png": "[encoded data removed]"
     },
     "metadata": {
      "needs_background": "light"
     },
     "output_type": "display_data"
    }
   ],
   "source": [
    "U, V = sgd_factorise_ad(data, 2)\n",
    "U = U.data\n",
    "fig = plt.figure()\n",
    "ax = fig.add_subplot(1,1,1)\n",
    "colors = ['blue','red','black']\n",
    "plt.scatter(U[:,0], U[:,1])\n",
    "colour_dict = {'Iris-setosa':0, 'Iris-versicolor':1, 'Iris-virginica':2}\n",
    "for i in range(data.shape[0]):\n",
    "    ax.scatter(U[i,0], U[i,1], color= colors[colour_dict[df.iloc[i,-1]]])\n",
    "plt.xlabel(\"Principle Component 1\")\n",
    "plt.ylabel(\"Principle Component 2\")\n",
    "plt.title(\"Projection onto $\\hat{U}$\")\n",
    "plt.savefig(\"PCA_U_2\")"
   ],
   "metadata": {
    "collapsed": false,
    "pycharm": {
     "name": "#%%\n",
     "is_executing": false
    }
   }
  },
  {
   "cell_type": "code",
   "execution_count": 10,
   "outputs": [],
   "source": [
    "\n"
   ],
   "metadata": {
    "collapsed": false,
    "pycharm": {
     "name": "#%%\n",
     "is_executing": false
    }
   }
  }
 ],
 "metadata": {
  "kernelspec": {
   "display_name": "Python 3",
   "language": "python",
   "name": "python3"
  },
  "language_info": {
   "codemirror_mode": {
    "name": "ipython",
    "version": 2
   },
   "file_extension": ".py",
   "mimetype": "text/x-python",
   "name": "python",
   "nbconvert_exporter": "python",
   "pygments_lexer": "ipython2",
   "version": "2.7.6"
  },
  "pycharm": {
   "stem_cell": {
    "cell_type": "raw",
    "source": [],
    "metadata": {
     "collapsed": false
    }
   }
  }
 },
 "nbformat": 4,
 "nbformat_minor": 0
}