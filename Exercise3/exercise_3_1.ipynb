{
 "cells": [
  {
   "cell_type": "code",
   "execution_count": 1,
   "metadata": {
    "collapsed": true,
    "pycharm": {
     "is_executing": false
    }
   },
   "outputs": [
    {
     "name": "stderr",
     "text": [
      "Bad val 'GTKAgg' on line #32\n",
      "\t\"backend      : GTKAgg\n",
      "\"\n",
      "\tin file \"/home/alex/.local/lib/python3.7/site-packages/matplotlib/mpl-data/matplotlibrc\"\n",
      "\tKey backend: Unrecognized backend string 'gtkagg': valid strings are ['GTK3Agg', 'GTK3Cairo', 'MacOSX', 'nbAgg', 'Qt4Agg', 'Qt4Cairo', 'Qt5Agg', 'Qt5Cairo', 'TkAgg', 'TkCairo', 'WebAgg', 'WX', 'WXAgg', 'WXCairo', 'agg', 'cairo', 'pdf', 'pgf', 'ps', 'svg', 'template']\n"
     ],
     "output_type": "stream"
    }
   ],
   "source": [
    "import torch\n",
    "import torch.optim as optim\n",
    "import math\n",
    "import numpy as np\n",
    "import matplotlib.pyplot as plt\n",
    "from mpl_toolkits.mplot3d import Axes3D\n",
    "from matplotlib.colors import LogNorm\n",
    "%matplotlib inline"
   ]
  },
  {
   "cell_type": "code",
   "execution_count": 2,
   "outputs": [],
   "source": [
    "def rastrigin(x):\n",
    "    A=1.0\n",
    "    return A*2 + x[0]**2 - A*torch.cos(2*math.pi*x[0]) + x[1]**2 - A*torch.cos(2*math.pi*x[1])\n",
    "    \n",
    "                "
   ],
   "metadata": {
    "collapsed": false,
    "pycharm": {
     "name": "#%%\n",
     "is_executing": false
    }
   }
  },
  {
   "cell_type": "code",
   "execution_count": 3,
   "outputs": [
    {
     "name": "stdout",
     "text": [
      "tensor(7.6000)\n"
     ],
     "output_type": "stream"
    }
   ],
   "source": [
    "print(rastrigin(torch.tensor([2.1,-1.3])))\n"
   ],
   "metadata": {
    "collapsed": false,
    "pycharm": {
     "name": "#%%\n",
     "is_executing": false
    }
   }
  },
  {
   "cell_type": "code",
   "execution_count": 4,
   "outputs": [],
   "source": [
    "\n",
    "def SGD(p, epochs=100):\n",
    "    opt = optim.SGD([p], lr=0.01)\n",
    "    outputs = []\n",
    "    for i in range(epochs):\n",
    "        opt.zero_grad()\n",
    "        output = rastrigin(p)\n",
    "        outputs.append(output.data)\n",
    "        output.backward()\n",
    "        opt.step()\n",
    "    return outputs\n",
    "\n",
    "def SGDM(p, epochs=100):\n",
    "   \n",
    "    opt = optim.SGD([p], lr=0.01, momentum=0.9)\n",
    "    outputs = []\n",
    "    for i in range(epochs):\n",
    "        opt.zero_grad()\n",
    "        output = rastrigin(p)\n",
    "        outputs.append(output.data)\n",
    "        output.backward()\n",
    "        opt.step()\n",
    "    return outputs\n",
    "\n",
    "\n",
    "def Adagrad(p, epochs=100):\n",
    "    opt = optim.Adagrad([p], lr=0.01)\n",
    "    outputs = []\n",
    "    for i in range(epochs):\n",
    "        opt.zero_grad()\n",
    "        output = rastrigin(p)\n",
    "        outputs.append(output.data)\n",
    "        output.backward()\n",
    "        opt.step()\n",
    "    return outputs\n",
    "\n",
    "\n",
    "def Adam(p, epochs=100):\n",
    "    opt = optim.Adam([p], lr=0.01)\n",
    "    outputs = []\n",
    "    for i in range(epochs):\n",
    "        opt.zero_grad()\n",
    "        output = rastrigin(p)\n",
    "        outputs.append(output.data)\n",
    "        output.backward()\n",
    "        opt.step()\n",
    "    return outputs\n",
    "\n",
    "\n",
    "\n"
   ],
   "metadata": {
    "collapsed": false,
    "pycharm": {
     "name": "#%%\n",
     "is_executing": false
    }
   }
  },
  {
   "cell_type": "code",
   "execution_count": 5,
   "outputs": [],
   "source": [
    "p = torch.tensor([5.0,5.0], requires_grad=True)\n",
    "result_SGD = SGD(p)\n",
    "#print(f\"SGD is {result_SGD}\")\n",
    "\n",
    "p = torch.tensor([5.0,5.0], requires_grad=True)\n",
    "result_SGDM = SGDM(p)\n",
    "#print(f\"SGDM is {result_SGDM}\")\n",
    "\n",
    "p = torch.tensor([5.0,5.0], requires_grad=True)\n",
    "result_Adagrad = Adagrad(p)\n",
    "#print(f\"Adagrad is {result_Adagrad}\")\n",
    "\n",
    "p = torch.tensor([5.0,5.0], requires_grad=True)\n",
    "result_Adam = Adam(p)\n",
    "#print(f\"Adam is {result_Adam}\")"
   ],
   "metadata": {
    "collapsed": false,
    "pycharm": {
     "name": "#%%\n",
     "is_executing": false
    }
   }
  },
  {
   "cell_type": "code",
   "execution_count": 12,
   "outputs": [
    {
     "data": {
      "text/plain": "<Figure size 432x288 with 1 Axes>",
      "image/png": "[encoded data removed]"
     },
     "metadata": {
      "needs_background": "light"
     },
     "output_type": "display_data"
    }
   ],
   "source": [
    "x_values = np.linspace(1,100,100)\n",
    "plt.plot(x_values, result_SGD, label=\"SGD\")\n",
    "plt.plot(x_values, result_SGDM, label = \"SGD+Momentum\")\n",
    "plt.plot(x_values, result_Adagrad, label=\"Adagrad\")\n",
    "plt.plot(x_values, result_Adam, label=\"Adam\")\n",
    "plt.title(\"Loss Plot for each Optimiser\")\n",
    "plt.legend(bbox_to_anchor=(1.05, 1), loc='upper left')\n",
    "plt.xlabel(\"Iterations\")\n",
    "plt.ylabel(\"Loss\")\n",
    "plt.savefig(\"Loss_Plot.png\", bbox_inches=\"tight\")"
   ],
   "metadata": {
    "collapsed": false,
    "pycharm": {
     "name": "#%%\n",
     "is_executing": false
    }
   }
  },
  {
   "cell_type": "code",
   "execution_count": 6,
   "outputs": [],
   "source": [
    "\n"
   ],
   "metadata": {
    "collapsed": false,
    "pycharm": {
     "name": "#%%\n",
     "is_executing": false
    }
   }
  }
 ],
 "metadata": {
  "kernelspec": {
   "display_name": "Python 3",
   "language": "python",
   "name": "python3"
  },
  "language_info": {
   "codemirror_mode": {
    "name": "ipython",
    "version": 2
   },
   "file_extension": ".py",
   "mimetype": "text/x-python",
   "name": "python",
   "nbconvert_exporter": "python",
   "pygments_lexer": "ipython2",
   "version": "2.7.6"
  },
  "pycharm": {
   "stem_cell": {
    "cell_type": "raw",
    "source": [],
    "metadata": {
     "collapsed": false
    }
   }
  }
 },
 "nbformat": 4,
 "nbformat_minor": 0
}